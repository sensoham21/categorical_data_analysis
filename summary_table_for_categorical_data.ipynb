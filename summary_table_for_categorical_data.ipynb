{
 "cells": [
  {
   "cell_type": "code",
   "execution_count": 1,
   "metadata": {},
   "outputs": [],
   "source": []
  },
  {
   "cell_type": "code",
   "execution_count": 4,
   "metadata": {},
   "outputs": [],
   "source": []
  },
  {
   "cell_type": "code",
   "execution_count": 31,
   "metadata": {},
   "outputs": [],
   "source": [
    "import os\n",
    "import pandas as pd\n",
    "import numpy as np\n",
    "import copy\n",
    "import warnings\n",
    "%matplotlib inline\n",
    "warnings.filterwarnings('ignore')\n",
    "sns.set_style(style = 'whitegrid')\n",
    "\n",
    "\n",
    "def eda_cat(df):\n",
    "    #Extract the categorical variables as a separate dataframe\n",
    "    df_cat = df.select_dtypes(include='object').copy()\n",
    "    \n",
    "    #Create a dataframe for the summary table\n",
    "    df_cat_stats = pd.DataFrame(columns=[\"column\", \"values\", \"value_count_na\", \"value_count_nona\", \"mode\", \"min_occ\",\"num_miss\", \"pct_miss\"])\n",
    "    #Create a temporary dataframe\n",
    "    tmp = pd.DataFrame()\n",
    "    \n",
    "    for c in df_cat.columns:\n",
    "        #Get the column name\n",
    "        tmp['column'] = [c]\n",
    "        #Get the list of categories\n",
    "        tmp['values'] = [df_cat[c].unique()]\n",
    "        #Get the number of unique categories with null included\n",
    "        tmp['value_count_na'] = len(list(df_cat[c].unique()))\n",
    "        #Get the number of unique categories without null\n",
    "        tmp['value_count_nona'] = int(df_cat[c].nunique())\n",
    "        #Get the most occuring category\n",
    "        tmp[\"mode\"] = df_cat[c].value_counts().index[0]\n",
    "        #Get the least occuring category\n",
    "        tmp['min_occ'] = df_cat[c].value_counts().index[-1]\n",
    "        #Get the number of missing values\n",
    "        tmp['num_miss'] = df_cat[c].isnull().sum()\n",
    "        #Get the percentage of missing values\n",
    "        tmp['pct_miss'] = (100*df_cat[c].isnull().sum()/ len(df_cat))\n",
    "        #Append to the stats table\n",
    "        df_cat_stats = df_cat_stats.append(tmp)\n",
    "        \n",
    "    #Sort by percentage of missing values  \n",
    "    df_cat_stats.sort_values(by = 'pct_miss', inplace = True, ascending = False)\n",
    "    #Set column name as index\n",
    "    df_cat_stats.set_index('column', inplace = True)\n",
    "\n",
    "    return df_cat_stats, df_cat\n"
   ]
  },
  {
   "cell_type": "code",
   "execution_count": null,
   "metadata": {},
   "outputs": [],
   "source": []
  },
  {
   "cell_type": "code",
   "execution_count": 33,
   "metadata": {},
   "outputs": [],
   "source": []
  },
  {
   "cell_type": "code",
   "execution_count": null,
   "metadata": {},
   "outputs": [],
   "source": []
  },
  {
   "cell_type": "code",
   "execution_count": null,
   "metadata": {},
   "outputs": [],
   "source": []
  },
  {
   "cell_type": "code",
   "execution_count": 20,
   "metadata": {},
   "outputs": [],
   "source": []
  },
  {
   "cell_type": "code",
   "execution_count": null,
   "metadata": {},
   "outputs": [],
   "source": []
  },
  {
   "cell_type": "code",
   "execution_count": null,
   "metadata": {},
   "outputs": [],
   "source": []
  },
  {
   "cell_type": "code",
   "execution_count": null,
   "metadata": {},
   "outputs": [],
   "source": []
  },
  {
   "cell_type": "code",
   "execution_count": null,
   "metadata": {},
   "outputs": [],
   "source": []
  },
  {
   "cell_type": "code",
   "execution_count": null,
   "metadata": {},
   "outputs": [],
   "source": []
  },
  {
   "cell_type": "code",
   "execution_count": null,
   "metadata": {},
   "outputs": [],
   "source": []
  },
  {
   "cell_type": "code",
   "execution_count": null,
   "metadata": {},
   "outputs": [],
   "source": []
  },
  {
   "cell_type": "code",
   "execution_count": null,
   "metadata": {},
   "outputs": [],
   "source": []
  },
  {
   "cell_type": "code",
   "execution_count": null,
   "metadata": {},
   "outputs": [],
   "source": []
  },
  {
   "cell_type": "code",
   "execution_count": null,
   "metadata": {},
   "outputs": [],
   "source": []
  },
  {
   "cell_type": "code",
   "execution_count": null,
   "metadata": {},
   "outputs": [],
   "source": []
  },
  {
   "cell_type": "code",
   "execution_count": null,
   "metadata": {},
   "outputs": [],
   "source": []
  },
  {
   "cell_type": "code",
   "execution_count": null,
   "metadata": {},
   "outputs": [],
   "source": []
  },
  {
   "cell_type": "code",
   "execution_count": null,
   "metadata": {},
   "outputs": [],
   "source": []
  },
  {
   "cell_type": "code",
   "execution_count": null,
   "metadata": {},
   "outputs": [],
   "source": []
  },
  {
   "cell_type": "code",
   "execution_count": null,
   "metadata": {},
   "outputs": [],
   "source": []
  },
  {
   "cell_type": "code",
   "execution_count": null,
   "metadata": {},
   "outputs": [],
   "source": []
  },
  {
   "cell_type": "code",
   "execution_count": null,
   "metadata": {},
   "outputs": [],
   "source": []
  },
  {
   "cell_type": "code",
   "execution_count": null,
   "metadata": {},
   "outputs": [],
   "source": []
  }
 ],
 "metadata": {
  "kernelspec": {
   "display_name": "Python 3",
   "language": "python",
   "name": "python3"
  },
  "language_info": {
   "codemirror_mode": {
    "name": "ipython",
    "version": 3
   },
   "file_extension": ".py",
   "mimetype": "text/x-python",
   "name": "python",
   "nbconvert_exporter": "python",
   "pygments_lexer": "ipython3",
   "version": "3.7.1"
  }
 },
 "nbformat": 4,
 "nbformat_minor": 2
}
